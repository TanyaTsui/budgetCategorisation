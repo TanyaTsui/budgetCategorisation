{
 "cells": [
  {
   "cell_type": "code",
   "execution_count": null,
   "id": "50c982c6",
   "metadata": {},
   "outputs": [],
   "source": [
    "import pandas as pd\n",
    "import openai\n",
    "import time\n",
    "import io\n",
    "import os \n",
    "from dotenv import load_dotenv\n",
    "pd.set_option('display.max_colwidth', None)\n",
    "\n",
    "load_dotenv()\n",
    "api_key = os.getenv(\"OPENAI_API_KEY\")\n",
    "client = openai.OpenAI(api_key=api_key)"
   ]
  },
  {
   "cell_type": "markdown",
   "id": "ff9c680b",
   "metadata": {},
   "source": [
    "# ABNAMRO csv processing \n",
    "remove credit card payments, pre-categorize income, savings, and investments"
   ]
  },
  {
   "cell_type": "code",
   "execution_count": 21,
   "id": "35374728",
   "metadata": {},
   "outputs": [
    {
     "data": {
      "text/html": [
       "<div>\n",
       "<style scoped>\n",
       "    .dataframe tbody tr th:only-of-type {\n",
       "        vertical-align: middle;\n",
       "    }\n",
       "\n",
       "    .dataframe tbody tr th {\n",
       "        vertical-align: top;\n",
       "    }\n",
       "\n",
       "    .dataframe thead th {\n",
       "        text-align: right;\n",
       "    }\n",
       "</style>\n",
       "<table border=\"1\" class=\"dataframe\">\n",
       "  <thead>\n",
       "    <tr style=\"text-align: right;\">\n",
       "      <th></th>\n",
       "      <th>date</th>\n",
       "      <th>amount</th>\n",
       "      <th>description</th>\n",
       "      <th>category</th>\n",
       "    </tr>\n",
       "  </thead>\n",
       "  <tbody>\n",
       "    <tr>\n",
       "      <th>0</th>\n",
       "      <td>20241001</td>\n",
       "      <td>-1067.70</td>\n",
       "      <td>SEPA Incasso algemeen doorlopend Incassant: NL19ZZZ271390540000  Naam: De Bruyn en Tak Makelaardi j B.V.                          Machtiging: 905-0000000042       Omschrijving: BETALINGSKENMERK: 3905000000430005 -CODE 000004-00 71-00000043                     IBAN: NL13INGB0105652768</td>\n",
       "      <td>None</td>\n",
       "    </tr>\n",
       "    <tr>\n",
       "      <th>1</th>\n",
       "      <td>20241002</td>\n",
       "      <td>-20.00</td>\n",
       "      <td>SEPA Incasso algemeen doorlopend Incassant: NL03ZZZ301771260000  Naam: TLS BV inz. OV-Chipkaart   Machtiging: NL03ZZZ301771260000ARAAU82000944343                  Omschrijving: Automatisch opladen OV-chipkaart Kaartnummer:35280 53445814037 Oplaaddatum/tijd:27-09-24 16:07</td>\n",
       "      <td>None</td>\n",
       "    </tr>\n",
       "    <tr>\n",
       "      <th>2</th>\n",
       "      <td>20241002</td>\n",
       "      <td>-20.00</td>\n",
       "      <td>SEPA Incasso algemeen doorlopend Incassant: NL03ZZZ301771260000  Naam: TLS BV inz. OV-Chipkaart   Machtiging: NL03ZZZ301771260000ARAAU82000944343                  Omschrijving: Automatisch opladen OV-chipkaart Kaartnummer:35280 53445814037 Oplaaddatum/tijd:28-09-24 16:12</td>\n",
       "      <td>None</td>\n",
       "    </tr>\n",
       "    <tr>\n",
       "      <th>3</th>\n",
       "      <td>20241002</td>\n",
       "      <td>3016.96</td>\n",
       "      <td>SEPA Overboeking                 IBAN: BE48967056780227          BIC: TRWIBEB1XXX                 Naam: TransferWise              Omschrijving: TANYA PUI YUNG TSU I                               Kenmerk: 1064438267              ID debiteur: P9209534</td>\n",
       "      <td>Income</td>\n",
       "    </tr>\n",
       "    <tr>\n",
       "      <th>4</th>\n",
       "      <td>20241002</td>\n",
       "      <td>-9.50</td>\n",
       "      <td>BEA, Betaalpas                   CCV*PSU BV,PAS033               NR:CT664993, 02.10.24/12:41      AMSTERDAM</td>\n",
       "      <td>None</td>\n",
       "    </tr>\n",
       "  </tbody>\n",
       "</table>\n",
       "</div>"
      ],
      "text/plain": [
       "       date   amount  \\\n",
       "0  20241001 -1067.70   \n",
       "1  20241002   -20.00   \n",
       "2  20241002   -20.00   \n",
       "3  20241002  3016.96   \n",
       "4  20241002    -9.50   \n",
       "\n",
       "                                                                                                                                                                                                                                                                                    description  \\\n",
       "0  SEPA Incasso algemeen doorlopend Incassant: NL19ZZZ271390540000  Naam: De Bruyn en Tak Makelaardi j B.V.                          Machtiging: 905-0000000042       Omschrijving: BETALINGSKENMERK: 3905000000430005 -CODE 000004-00 71-00000043                     IBAN: NL13INGB0105652768   \n",
       "1               SEPA Incasso algemeen doorlopend Incassant: NL03ZZZ301771260000  Naam: TLS BV inz. OV-Chipkaart   Machtiging: NL03ZZZ301771260000ARAAU82000944343                  Omschrijving: Automatisch opladen OV-chipkaart Kaartnummer:35280 53445814037 Oplaaddatum/tijd:27-09-24 16:07   \n",
       "2               SEPA Incasso algemeen doorlopend Incassant: NL03ZZZ301771260000  Naam: TLS BV inz. OV-Chipkaart   Machtiging: NL03ZZZ301771260000ARAAU82000944343                  Omschrijving: Automatisch opladen OV-chipkaart Kaartnummer:35280 53445814037 Oplaaddatum/tijd:28-09-24 16:12   \n",
       "3                                     SEPA Overboeking                 IBAN: BE48967056780227          BIC: TRWIBEB1XXX                 Naam: TransferWise              Omschrijving: TANYA PUI YUNG TSU I                               Kenmerk: 1064438267              ID debiteur: P9209534   \n",
       "4                                                                                                                                                                                   BEA, Betaalpas                   CCV*PSU BV,PAS033               NR:CT664993, 02.10.24/12:41      AMSTERDAM   \n",
       "\n",
       "  category  \n",
       "0     None  \n",
       "1     None  \n",
       "2     None  \n",
       "3   Income  \n",
       "4     None  "
      ]
     },
     "execution_count": 21,
     "metadata": {},
     "output_type": "execute_result"
    }
   ],
   "source": [
    "csv_path = \"data/raw/bank_account/2024Oct_2025Mar_abnamro.csv\"\n",
    "batch_size = 20\n",
    "\n",
    "df = pd.read_csv(csv_path, index_col=False)\n",
    "df['description'] = df['description'].fillna(\"\")\n",
    "if 'category' not in df.columns:\n",
    "    df['category'] = None\n",
    "\n",
    "# get rid of credit card bills (this will be processed separately)\n",
    "df = df[~df.description.str.contains('NL13ZZZ332005960000')]\n",
    "\n",
    "# categorize income, savings, and investments \n",
    "def categorizeRow(row): \n",
    "    if row.amount > 2500: \n",
    "        return 'Income'\n",
    "    elif 'direct sparen' in row.description.lower(): \n",
    "        return 'Savings'\n",
    "    elif 'NL65ABNA0880878118' in row.description.upper(): \n",
    "        return 'Investments'\n",
    "    elif 'yf wong' in row.description.lower(): \n",
    "        return 'Rent'\n",
    "    elif row.amount > 0: \n",
    "        return 'Reimbursements' \n",
    "    else: \n",
    "        return row.category  # preserve existing\n",
    "df['category'] = df.apply(lambda row: categorizeRow(row), axis=1)\n",
    "df.rename(columns={'transactiondate': 'date'}, inplace=True)\n",
    "df = df[['date', 'amount', 'description', 'category']]\n",
    "df.to_csv('data/processed/bankStatements_2024Oct_2025Mar_abnamro.csv', index=False)\n",
    "df.head()"
   ]
  },
  {
   "cell_type": "markdown",
   "id": "02a9e448",
   "metadata": {},
   "source": [
    "# Extracting data from credit card pdf statements"
   ]
  },
  {
   "cell_type": "code",
   "execution_count": null,
   "id": "152f8e39",
   "metadata": {},
   "outputs": [],
   "source": [
    "class PdfStatementExtractor: \n",
    "    \n",
    "    def __init__(self, folder_path, csv_path): \n",
    "        self.folder_path = folder_path \n",
    "        self.csv_path = csv_path\n",
    "\n",
    "    def run(self): \n",
    "        self.deleteOldCsv() \n",
    "        self.createAssistant()\n",
    "        self.getFileNames() \n",
    "        for file_name in self.file_names: \n",
    "            self.messageAssistant(file_name)\n",
    "            self.runAssistant()\n",
    "            self.recordOutput() \n",
    "\n",
    "    def deleteOldCsv(self): \n",
    "        file_path = self.csv_path \n",
    "        if os.path.exists(file_path):\n",
    "            os.remove(file_path)\n",
    "\n",
    "    def createAssistant(self): \n",
    "        self.assistant = client.beta.assistants.create(\n",
    "            name=\"PDF Extractor\",\n",
    "            instructions=(\n",
    "                \"You are a helpful assistant that extracts tables from credit card statement PDFs \"\n",
    "                \"and returns them in CSV format.\"\n",
    "            ),\n",
    "            model=\"gpt-4o\", \n",
    "            tools=[{\"type\": \"file_search\"}],\n",
    "        )\n",
    "\n",
    "    def getFileNames(self): \n",
    "        folder_path = self.folder_path\n",
    "        self.file_names = [os.path.join(folder_path, f) for f in os.listdir(folder_path)\n",
    "                           if os.path.isfile(os.path.join(folder_path, f))]\n",
    "\n",
    "    def messageAssistant(self, file_name): \n",
    "        print(f'processing {file_name}...')\n",
    "        message_file = client.files.create(\n",
    "        file=open(file_name, \"rb\"), purpose=\"assistants\"\n",
    "        )\n",
    "\n",
    "        self.thread = client.beta.threads.create(\n",
    "        messages=[\n",
    "            {\n",
    "            \"role\": \"user\",\n",
    "            \"content\": (\n",
    "                            \"This is a credit card statement. Extract all transactions as a table with columns: \"\n",
    "                            \"['date', 'description', 'amount'].\\n\\n\"\n",
    "                            \"change the transactiondate values to DD/MM/YY format. \"\n",
    "                            \"Change the amount values into numbers (floats) - with 'bij' representing a positive number, and 'af' a negative number\"\n",
    "                            \"Return the transactions in plain CSV format, including the header row. Enclose all fields in double quotes.\"\n",
    "                            \"Do not add explanations or formatting (such as ``````), just output the CSV text.\"\n",
    "                        ),\n",
    "            # Attach the new file to the message.\n",
    "            \"attachments\": [\n",
    "                { \"file_id\": message_file.id, \"tools\": [{\"type\": \"file_search\"}] }\n",
    "            ],\n",
    "            }\n",
    "        ]\n",
    "        )\n",
    "\n",
    "    def runAssistant(self): \n",
    "        run = client.beta.threads.runs.create(\n",
    "            thread_id=self.thread.id,\n",
    "            assistant_id=self.assistant.id\n",
    "        )\n",
    "\n",
    "        while True:\n",
    "            run_status = client.beta.threads.runs.retrieve(thread_id=self.thread.id, run_id=run.id)\n",
    "            if run_status.status == \"completed\":\n",
    "                break\n",
    "            elif run_status.status in [\"failed\", \"cancelled\", \"expired\"]:\n",
    "                raise Exception(f\"Run failed with status: {run_status.status}\")\n",
    "            time.sleep(2)\n",
    "\n",
    "        messages = client.beta.threads.messages.list(thread_id=self.thread.id)\n",
    "        self.output = messages.data[0].content[0].text.value\n",
    "        # print(\"GPT output:\\n\", output)  # Optional: see what GPT returned\n",
    "\n",
    "    def recordOutput(self): \n",
    "        csv_path = self.csv_path\n",
    "        df = pd.read_csv(io.StringIO(self.output))\n",
    "        if os.path.exists(csv_path): \n",
    "            df.to_csv(csv_path, mode='a', index=False, header=False)\n",
    "        else: \n",
    "            df.to_csv(csv_path, mode='w', index=False, header=True)\n",
    "        print(f'results saved to {csv_path}')\n"
   ]
  },
  {
   "cell_type": "code",
   "execution_count": 13,
   "id": "89e377bc",
   "metadata": {},
   "outputs": [
    {
     "name": "stdout",
     "output_type": "stream",
     "text": [
      "processing data/raw/credit_card/Statement-71583590014-2025-01.pdf...\n",
      "results saved to data/processed/creditCardStatements.csv\n",
      "processing data/raw/credit_card/Statement-71583590014-2025-03.pdf...\n",
      "results saved to data/processed/creditCardStatements.csv\n",
      "processing data/raw/credit_card/Statement-71583590014-2025-02.pdf...\n",
      "results saved to data/processed/creditCardStatements.csv\n",
      "processing data/raw/credit_card/Statement-71583590014-2024-10.pdf...\n",
      "results saved to data/processed/creditCardStatements.csv\n",
      "processing data/raw/credit_card/Statement-71583590014-2024-11.pdf...\n",
      "results saved to data/processed/creditCardStatements.csv\n",
      "processing data/raw/credit_card/Statement-71583590014-2024-12.pdf...\n",
      "results saved to data/processed/creditCardStatements.csv\n"
     ]
    }
   ],
   "source": [
    "folder_path = 'data/raw/credit_card'\n",
    "csv_path = 'data/processed/creditCardStatements.csv'\n",
    "PdfStatementExtractor(folder_path, csv_path).run()"
   ]
  },
  {
   "cell_type": "markdown",
   "id": "e59bdec2",
   "metadata": {},
   "source": [
    "# Combining credit card and bank statements"
   ]
  },
  {
   "cell_type": "code",
   "execution_count": 26,
   "id": "cc67a234",
   "metadata": {},
   "outputs": [],
   "source": [
    "# clean credit card statements \n",
    "df = pd.read_csv('data/processed/creditCardStatements.csv')\n",
    "df = df[df.amount < 0]\n",
    "df['category'] = None\n",
    "df['date'] = pd.to_datetime(df.date, format='%d/%m/%y')\n",
    "df = df[['date', 'description', 'amount', 'category']]\n",
    "credit_card = df.copy()\n",
    "\n",
    "# bank statements \n",
    "df = pd.read_csv('data/processed/bankStatements_2024Oct_2025Mar_abnamro.csv')\n",
    "df['date'] = pd.to_datetime(df.date, format='%Y%m%d')\n",
    "df = df[['date', 'description', 'amount', 'category']]\n",
    "bank = df.copy() \n",
    "\n",
    "combined = pd.concat([credit_card, bank])\n",
    "combined.to_csv('data/processed/statements_combined.csv', index=False)"
   ]
  },
  {
   "cell_type": "markdown",
   "id": "806410c1",
   "metadata": {},
   "source": [
    "# Categorizing rows with chatGPT "
   ]
  },
  {
   "cell_type": "code",
   "execution_count": null,
   "id": "1fb8919b",
   "metadata": {},
   "outputs": [],
   "source": [
    "import openai\n",
    "import pandas as pd\n",
    "import json\n",
    "import time\n",
    "import os\n",
    "from openai import OpenAI\n",
    "from dotenv import load_dotenv"
   ]
  },
  {
   "cell_type": "code",
   "execution_count": null,
   "id": "dff1d970",
   "metadata": {},
   "outputs": [],
   "source": [
    "class BankStatementCategoriser: \n",
    "\n",
    "    def __init__(self, bank_statement_path, results_path, assistant_instructions):\n",
    "        load_dotenv()\n",
    "        api_key = os.getenv(\"OPENAI_API_KEY\")\n",
    "        self.client = OpenAI(api_key=api_key)\n",
    "        self.gpt_model = 'gpt-4o'\n",
    "        self.assistant_instructions = assistant_instructions \n",
    "\n",
    "        self.bank_statement_path = bank_statement_path\n",
    "        self.results_path = results_path \n",
    "        \n",
    "        self.df = pd.read_csv(self.bank_statement_path) \n",
    "        self.batch_size = 20 \n",
    "\n",
    "    def run(self): \n",
    "        self.delete_old_csv()\n",
    "        self.create_assistant()\n",
    "        for i in range(0, len(self.df), self.batch_size):\n",
    "            self.get_descriptions(i)\n",
    "            self.process_categorised_descriptions(i)\n",
    "\n",
    "    def delete_old_csv(self): \n",
    "        file_path = self.results_path \n",
    "        if os.path.exists(file_path):\n",
    "            os.remove(file_path)\n",
    "\n",
    "    def create_assistant(self): \n",
    "        self.assistant = self.client.beta.assistants.create(\n",
    "            name=\"Budget Categorisation Assistant\",\n",
    "            instructions=open(self.assistant_instructions).read(),\n",
    "            model=self.gpt_model\n",
    "        )\n",
    "\n",
    "    def get_descriptions(self, i): \n",
    "        batch = self.df.iloc[i:i+self.batch_size]\n",
    "        if batch['category'].notna().all():\n",
    "            return # skip further processing \n",
    "        print(f\"Processing rows {i}–{i + self.batch_size - 1} of {len(self.df)}\")\n",
    "        self.descriptions = batch['description'].tolist()\n",
    "\n",
    "    def process_categorised_descriptions(self, i): \n",
    "        df = self.df \n",
    "        descriptions = self.descriptions\n",
    "\n",
    "        try:\n",
    "            categories = self.batch_categorize(descriptions)\n",
    "            if len(categories) != len(descriptions):\n",
    "                print(\"❌ Mismatch in returned categories, skipping this batch.\")\n",
    "                print(f'n descriptions: {len(descriptions)} - {descriptions}')\n",
    "                print(f'n categories: {len(categories)} - {categories}')\n",
    "                return\n",
    "\n",
    "            df.loc[i:i+self.batch_size-1, 'category'] = categories\n",
    "            df.to_csv(self.results_path, index=False)\n",
    "            print(f\"✅ Saved rows {i}–{i + self.batch_size - 1}\")\n",
    "\n",
    "        except Exception as e:\n",
    "            print(f\"❌ Error in batch {i}–{i + self.batch_size - 1}: {e}\")\n",
    "            return\n",
    "\n",
    "    def batch_categorize(self, descriptions):\n",
    "        # Number the descriptions to guide GPT\n",
    "        numbered_descriptions = \"\\n\".join([f\"{i+1}. {desc}\" for i, desc in enumerate(descriptions)])\n",
    "\n",
    "        self.thread = self.client.beta.threads.create()\n",
    "        self.client.beta.threads.messages.create(\n",
    "            thread_id=self.thread.id,\n",
    "            role=\"user\",\n",
    "            content=f'Descriptions: \\n{numbered_descriptions}'\n",
    "        )\n",
    "        run = self.client.beta.threads.runs.create(\n",
    "            thread_id=self.thread.id,\n",
    "            assistant_id=self.assistant.id\n",
    "        )\n",
    "        while True:\n",
    "            run_status = self.client.beta.threads.runs.retrieve(\n",
    "                thread_id=self.thread.id,\n",
    "                run_id=run.id\n",
    "            )\n",
    "            if run_status.status == \"completed\":\n",
    "                break\n",
    "            elif run_status.status in [\"failed\", \"cancelled\", \"expired\"]:\n",
    "                raise Exception(f\"Run failed with status: {run_status.status}\")\n",
    "            time.sleep(1)  # avoid hammering the API\n",
    "\n",
    "        messages = self.client.beta.threads.messages.list(thread_id=self.thread.id)\n",
    "        content = messages.data[0].content[0].text.value\n",
    "\n",
    "        # Parse lines manually\n",
    "        lines = content.splitlines()\n",
    "        categories = []\n",
    "\n",
    "        for line in lines:\n",
    "            if \".\" in line:\n",
    "                try:\n",
    "                    _, category = line.split(\".\", 1)\n",
    "                    categories.append(category.strip())\n",
    "                except ValueError:\n",
    "                    continue\n",
    "\n",
    "        if len(categories) != 20:\n",
    "            print(f\"❌ GPT returned {len(categories)} categories instead of 20.\")\n",
    "\n",
    "        return categories"
   ]
  },
  {
   "cell_type": "code",
   "execution_count": 79,
   "id": "c1da10a0",
   "metadata": {},
   "outputs": [
    {
     "name": "stdout",
     "output_type": "stream",
     "text": [
      "Processing rows 0–19 of 448\n",
      "✅ Saved rows 0–19\n",
      "Processing rows 20–39 of 448\n",
      "✅ Saved rows 20–39\n",
      "Processing rows 40–59 of 448\n",
      "✅ Saved rows 40–59\n",
      "Processing rows 60–79 of 448\n",
      "✅ Saved rows 60–79\n",
      "Processing rows 80–99 of 448\n",
      "✅ Saved rows 80–99\n",
      "Processing rows 100–119 of 448\n",
      "✅ Saved rows 100–119\n",
      "Processing rows 120–139 of 448\n",
      "✅ Saved rows 120–139\n",
      "Processing rows 140–159 of 448\n",
      "✅ Saved rows 140–159\n",
      "Processing rows 160–179 of 448\n",
      "✅ Saved rows 160–179\n",
      "Processing rows 180–199 of 448\n",
      "✅ Saved rows 180–199\n",
      "Processing rows 200–219 of 448\n",
      "✅ Saved rows 200–219\n",
      "Processing rows 220–239 of 448\n",
      "✅ Saved rows 220–239\n",
      "Processing rows 240–259 of 448\n",
      "✅ Saved rows 240–259\n",
      "Processing rows 260–279 of 448\n",
      "✅ Saved rows 260–279\n",
      "Processing rows 280–299 of 448\n",
      "✅ Saved rows 280–299\n",
      "Processing rows 300–319 of 448\n",
      "✅ Saved rows 300–319\n",
      "Processing rows 320–339 of 448\n",
      "✅ Saved rows 320–339\n",
      "Processing rows 340–359 of 448\n",
      "✅ Saved rows 340–359\n",
      "Processing rows 360–379 of 448\n",
      "✅ Saved rows 360–379\n",
      "Processing rows 380–399 of 448\n",
      "✅ Saved rows 380–399\n",
      "Processing rows 400–419 of 448\n",
      "✅ Saved rows 400–419\n",
      "Processing rows 420–439 of 448\n",
      "✅ Saved rows 420–439\n",
      "Processing rows 440–459 of 448\n",
      "❌ GPT returned 8 categories instead of 20.\n",
      "✅ Saved rows 440–459\n"
     ]
    }
   ],
   "source": [
    "bank_statement_path = 'data/processed/statements_combined.csv'\n",
    "results_path = 'results/statements_categorised_241001_to_250331.csv'\n",
    "assistant_instructions = 'data/processed/assistant_instructions.txt'\n",
    "BankStatementCategoriser(bank_statement_path, results_path, assistant_instructions).run()"
   ]
  },
  {
   "cell_type": "markdown",
   "id": "aa798e15",
   "metadata": {},
   "source": [
    "# Analyze expenses"
   ]
  },
  {
   "cell_type": "code",
   "execution_count": 4,
   "id": "a2b2ab4a",
   "metadata": {},
   "outputs": [],
   "source": [
    "import pandas as pd\n",
    "import plotly.express as px"
   ]
  },
  {
   "cell_type": "code",
   "execution_count": 5,
   "id": "5699c898",
   "metadata": {},
   "outputs": [
    {
     "name": "stdout",
     "output_type": "stream",
     "text": [
      "0% of rows were not categorised\n",
      "total spending: 17994.779999999995. Average spending over 6 months: 2999\n"
     ]
    },
    {
     "data": {
      "application/vnd.plotly.v1+json": {
       "config": {
        "plotlyServerURL": "https://plot.ly"
       },
       "data": [
        {
         "hovertemplate": "amount=%{x}<br>category=%{y}<extra></extra>",
         "legendgroup": "",
         "marker": {
          "color": "#636efa",
          "pattern": {
           "shape": ""
          }
         },
         "name": "",
         "orientation": "h",
         "showlegend": false,
         "textposition": "auto",
         "type": "bar",
         "x": {
          "bdata": "RERERERE7D8zMzMzMzPvP9tApw10ej9A0GkDnTaAUkAwlvxiyZ9dQPKLJb9YYmBA0GkDnTa4YECIiIiIiCBmQKuqqqqqpmZAf7HkF0sWaEDJL5b8YlVoQPOLJb9YyHFAexSuR+FieEBVVVVVVal7QIJOG+i0LIRA",
          "dtype": "f8"
         },
         "xaxis": "x",
         "y": [
          "Bank Fees",
          "Banking Fees",
          "Books & Education",
          "Health & Hygiene",
          "Groceries",
          "Utilities",
          "Other",
          "Insurance",
          "Shopping",
          "Subscriptions",
          "Restaurants & Cafés",
          "Transport",
          "Travel",
          "Taxes",
          "Rent"
         ],
         "yaxis": "y"
        }
       ],
       "layout": {
        "barmode": "relative",
        "legend": {
         "tracegroupgap": 0
        },
        "template": {
         "data": {
          "bar": [
           {
            "error_x": {
             "color": "#2a3f5f"
            },
            "error_y": {
             "color": "#2a3f5f"
            },
            "marker": {
             "line": {
              "color": "#E5ECF6",
              "width": 0.5
             },
             "pattern": {
              "fillmode": "overlay",
              "size": 10,
              "solidity": 0.2
             }
            },
            "type": "bar"
           }
          ],
          "barpolar": [
           {
            "marker": {
             "line": {
              "color": "#E5ECF6",
              "width": 0.5
             },
             "pattern": {
              "fillmode": "overlay",
              "size": 10,
              "solidity": 0.2
             }
            },
            "type": "barpolar"
           }
          ],
          "carpet": [
           {
            "aaxis": {
             "endlinecolor": "#2a3f5f",
             "gridcolor": "white",
             "linecolor": "white",
             "minorgridcolor": "white",
             "startlinecolor": "#2a3f5f"
            },
            "baxis": {
             "endlinecolor": "#2a3f5f",
             "gridcolor": "white",
             "linecolor": "white",
             "minorgridcolor": "white",
             "startlinecolor": "#2a3f5f"
            },
            "type": "carpet"
           }
          ],
          "choropleth": [
           {
            "colorbar": {
             "outlinewidth": 0,
             "ticks": ""
            },
            "type": "choropleth"
           }
          ],
          "contour": [
           {
            "colorbar": {
             "outlinewidth": 0,
             "ticks": ""
            },
            "colorscale": [
             [
              0,
              "#0d0887"
             ],
             [
              0.1111111111111111,
              "#46039f"
             ],
             [
              0.2222222222222222,
              "#7201a8"
             ],
             [
              0.3333333333333333,
              "#9c179e"
             ],
             [
              0.4444444444444444,
              "#bd3786"
             ],
             [
              0.5555555555555556,
              "#d8576b"
             ],
             [
              0.6666666666666666,
              "#ed7953"
             ],
             [
              0.7777777777777778,
              "#fb9f3a"
             ],
             [
              0.8888888888888888,
              "#fdca26"
             ],
             [
              1,
              "#f0f921"
             ]
            ],
            "type": "contour"
           }
          ],
          "contourcarpet": [
           {
            "colorbar": {
             "outlinewidth": 0,
             "ticks": ""
            },
            "type": "contourcarpet"
           }
          ],
          "heatmap": [
           {
            "colorbar": {
             "outlinewidth": 0,
             "ticks": ""
            },
            "colorscale": [
             [
              0,
              "#0d0887"
             ],
             [
              0.1111111111111111,
              "#46039f"
             ],
             [
              0.2222222222222222,
              "#7201a8"
             ],
             [
              0.3333333333333333,
              "#9c179e"
             ],
             [
              0.4444444444444444,
              "#bd3786"
             ],
             [
              0.5555555555555556,
              "#d8576b"
             ],
             [
              0.6666666666666666,
              "#ed7953"
             ],
             [
              0.7777777777777778,
              "#fb9f3a"
             ],
             [
              0.8888888888888888,
              "#fdca26"
             ],
             [
              1,
              "#f0f921"
             ]
            ],
            "type": "heatmap"
           }
          ],
          "histogram": [
           {
            "marker": {
             "pattern": {
              "fillmode": "overlay",
              "size": 10,
              "solidity": 0.2
             }
            },
            "type": "histogram"
           }
          ],
          "histogram2d": [
           {
            "colorbar": {
             "outlinewidth": 0,
             "ticks": ""
            },
            "colorscale": [
             [
              0,
              "#0d0887"
             ],
             [
              0.1111111111111111,
              "#46039f"
             ],
             [
              0.2222222222222222,
              "#7201a8"
             ],
             [
              0.3333333333333333,
              "#9c179e"
             ],
             [
              0.4444444444444444,
              "#bd3786"
             ],
             [
              0.5555555555555556,
              "#d8576b"
             ],
             [
              0.6666666666666666,
              "#ed7953"
             ],
             [
              0.7777777777777778,
              "#fb9f3a"
             ],
             [
              0.8888888888888888,
              "#fdca26"
             ],
             [
              1,
              "#f0f921"
             ]
            ],
            "type": "histogram2d"
           }
          ],
          "histogram2dcontour": [
           {
            "colorbar": {
             "outlinewidth": 0,
             "ticks": ""
            },
            "colorscale": [
             [
              0,
              "#0d0887"
             ],
             [
              0.1111111111111111,
              "#46039f"
             ],
             [
              0.2222222222222222,
              "#7201a8"
             ],
             [
              0.3333333333333333,
              "#9c179e"
             ],
             [
              0.4444444444444444,
              "#bd3786"
             ],
             [
              0.5555555555555556,
              "#d8576b"
             ],
             [
              0.6666666666666666,
              "#ed7953"
             ],
             [
              0.7777777777777778,
              "#fb9f3a"
             ],
             [
              0.8888888888888888,
              "#fdca26"
             ],
             [
              1,
              "#f0f921"
             ]
            ],
            "type": "histogram2dcontour"
           }
          ],
          "mesh3d": [
           {
            "colorbar": {
             "outlinewidth": 0,
             "ticks": ""
            },
            "type": "mesh3d"
           }
          ],
          "parcoords": [
           {
            "line": {
             "colorbar": {
              "outlinewidth": 0,
              "ticks": ""
             }
            },
            "type": "parcoords"
           }
          ],
          "pie": [
           {
            "automargin": true,
            "type": "pie"
           }
          ],
          "scatter": [
           {
            "fillpattern": {
             "fillmode": "overlay",
             "size": 10,
             "solidity": 0.2
            },
            "type": "scatter"
           }
          ],
          "scatter3d": [
           {
            "line": {
             "colorbar": {
              "outlinewidth": 0,
              "ticks": ""
             }
            },
            "marker": {
             "colorbar": {
              "outlinewidth": 0,
              "ticks": ""
             }
            },
            "type": "scatter3d"
           }
          ],
          "scattercarpet": [
           {
            "marker": {
             "colorbar": {
              "outlinewidth": 0,
              "ticks": ""
             }
            },
            "type": "scattercarpet"
           }
          ],
          "scattergeo": [
           {
            "marker": {
             "colorbar": {
              "outlinewidth": 0,
              "ticks": ""
             }
            },
            "type": "scattergeo"
           }
          ],
          "scattergl": [
           {
            "marker": {
             "colorbar": {
              "outlinewidth": 0,
              "ticks": ""
             }
            },
            "type": "scattergl"
           }
          ],
          "scattermap": [
           {
            "marker": {
             "colorbar": {
              "outlinewidth": 0,
              "ticks": ""
             }
            },
            "type": "scattermap"
           }
          ],
          "scattermapbox": [
           {
            "marker": {
             "colorbar": {
              "outlinewidth": 0,
              "ticks": ""
             }
            },
            "type": "scattermapbox"
           }
          ],
          "scatterpolar": [
           {
            "marker": {
             "colorbar": {
              "outlinewidth": 0,
              "ticks": ""
             }
            },
            "type": "scatterpolar"
           }
          ],
          "scatterpolargl": [
           {
            "marker": {
             "colorbar": {
              "outlinewidth": 0,
              "ticks": ""
             }
            },
            "type": "scatterpolargl"
           }
          ],
          "scatterternary": [
           {
            "marker": {
             "colorbar": {
              "outlinewidth": 0,
              "ticks": ""
             }
            },
            "type": "scatterternary"
           }
          ],
          "surface": [
           {
            "colorbar": {
             "outlinewidth": 0,
             "ticks": ""
            },
            "colorscale": [
             [
              0,
              "#0d0887"
             ],
             [
              0.1111111111111111,
              "#46039f"
             ],
             [
              0.2222222222222222,
              "#7201a8"
             ],
             [
              0.3333333333333333,
              "#9c179e"
             ],
             [
              0.4444444444444444,
              "#bd3786"
             ],
             [
              0.5555555555555556,
              "#d8576b"
             ],
             [
              0.6666666666666666,
              "#ed7953"
             ],
             [
              0.7777777777777778,
              "#fb9f3a"
             ],
             [
              0.8888888888888888,
              "#fdca26"
             ],
             [
              1,
              "#f0f921"
             ]
            ],
            "type": "surface"
           }
          ],
          "table": [
           {
            "cells": {
             "fill": {
              "color": "#EBF0F8"
             },
             "line": {
              "color": "white"
             }
            },
            "header": {
             "fill": {
              "color": "#C8D4E3"
             },
             "line": {
              "color": "white"
             }
            },
            "type": "table"
           }
          ]
         },
         "layout": {
          "annotationdefaults": {
           "arrowcolor": "#2a3f5f",
           "arrowhead": 0,
           "arrowwidth": 1
          },
          "autotypenumbers": "strict",
          "coloraxis": {
           "colorbar": {
            "outlinewidth": 0,
            "ticks": ""
           }
          },
          "colorscale": {
           "diverging": [
            [
             0,
             "#8e0152"
            ],
            [
             0.1,
             "#c51b7d"
            ],
            [
             0.2,
             "#de77ae"
            ],
            [
             0.3,
             "#f1b6da"
            ],
            [
             0.4,
             "#fde0ef"
            ],
            [
             0.5,
             "#f7f7f7"
            ],
            [
             0.6,
             "#e6f5d0"
            ],
            [
             0.7,
             "#b8e186"
            ],
            [
             0.8,
             "#7fbc41"
            ],
            [
             0.9,
             "#4d9221"
            ],
            [
             1,
             "#276419"
            ]
           ],
           "sequential": [
            [
             0,
             "#0d0887"
            ],
            [
             0.1111111111111111,
             "#46039f"
            ],
            [
             0.2222222222222222,
             "#7201a8"
            ],
            [
             0.3333333333333333,
             "#9c179e"
            ],
            [
             0.4444444444444444,
             "#bd3786"
            ],
            [
             0.5555555555555556,
             "#d8576b"
            ],
            [
             0.6666666666666666,
             "#ed7953"
            ],
            [
             0.7777777777777778,
             "#fb9f3a"
            ],
            [
             0.8888888888888888,
             "#fdca26"
            ],
            [
             1,
             "#f0f921"
            ]
           ],
           "sequentialminus": [
            [
             0,
             "#0d0887"
            ],
            [
             0.1111111111111111,
             "#46039f"
            ],
            [
             0.2222222222222222,
             "#7201a8"
            ],
            [
             0.3333333333333333,
             "#9c179e"
            ],
            [
             0.4444444444444444,
             "#bd3786"
            ],
            [
             0.5555555555555556,
             "#d8576b"
            ],
            [
             0.6666666666666666,
             "#ed7953"
            ],
            [
             0.7777777777777778,
             "#fb9f3a"
            ],
            [
             0.8888888888888888,
             "#fdca26"
            ],
            [
             1,
             "#f0f921"
            ]
           ]
          },
          "colorway": [
           "#636efa",
           "#EF553B",
           "#00cc96",
           "#ab63fa",
           "#FFA15A",
           "#19d3f3",
           "#FF6692",
           "#B6E880",
           "#FF97FF",
           "#FECB52"
          ],
          "font": {
           "color": "#2a3f5f"
          },
          "geo": {
           "bgcolor": "white",
           "lakecolor": "white",
           "landcolor": "#E5ECF6",
           "showlakes": true,
           "showland": true,
           "subunitcolor": "white"
          },
          "hoverlabel": {
           "align": "left"
          },
          "hovermode": "closest",
          "mapbox": {
           "style": "light"
          },
          "paper_bgcolor": "white",
          "plot_bgcolor": "#E5ECF6",
          "polar": {
           "angularaxis": {
            "gridcolor": "white",
            "linecolor": "white",
            "ticks": ""
           },
           "bgcolor": "#E5ECF6",
           "radialaxis": {
            "gridcolor": "white",
            "linecolor": "white",
            "ticks": ""
           }
          },
          "scene": {
           "xaxis": {
            "backgroundcolor": "#E5ECF6",
            "gridcolor": "white",
            "gridwidth": 2,
            "linecolor": "white",
            "showbackground": true,
            "ticks": "",
            "zerolinecolor": "white"
           },
           "yaxis": {
            "backgroundcolor": "#E5ECF6",
            "gridcolor": "white",
            "gridwidth": 2,
            "linecolor": "white",
            "showbackground": true,
            "ticks": "",
            "zerolinecolor": "white"
           },
           "zaxis": {
            "backgroundcolor": "#E5ECF6",
            "gridcolor": "white",
            "gridwidth": 2,
            "linecolor": "white",
            "showbackground": true,
            "ticks": "",
            "zerolinecolor": "white"
           }
          },
          "shapedefaults": {
           "line": {
            "color": "#2a3f5f"
           }
          },
          "ternary": {
           "aaxis": {
            "gridcolor": "white",
            "linecolor": "white",
            "ticks": ""
           },
           "baxis": {
            "gridcolor": "white",
            "linecolor": "white",
            "ticks": ""
           },
           "bgcolor": "#E5ECF6",
           "caxis": {
            "gridcolor": "white",
            "linecolor": "white",
            "ticks": ""
           }
          },
          "title": {
           "x": 0.05
          },
          "xaxis": {
           "automargin": true,
           "gridcolor": "white",
           "linecolor": "white",
           "ticks": "",
           "title": {
            "standoff": 15
           },
           "zerolinecolor": "white",
           "zerolinewidth": 2
          },
          "yaxis": {
           "automargin": true,
           "gridcolor": "white",
           "linecolor": "white",
           "ticks": "",
           "title": {
            "standoff": 15
           },
           "zerolinecolor": "white",
           "zerolinewidth": 2
          }
         }
        },
        "title": {
         "text": "av spending: 2999 per month"
        },
        "width": 700,
        "xaxis": {
         "anchor": "y",
         "domain": [
          0,
          1
         ],
         "title": {
          "text": "amount"
         }
        },
        "yaxis": {
         "anchor": "x",
         "domain": [
          0,
          1
         ],
         "title": {
          "text": "category"
         }
        }
       }
      }
     },
     "metadata": {},
     "output_type": "display_data"
    }
   ],
   "source": [
    "df = pd.read_csv('results/statements_categorised_241001_to_250331.csv')\n",
    "\n",
    "# print n uncategorised rows \n",
    "n_na_rows = len(df[df.category.isna()])\n",
    "perc_na = round(n_na_rows / len(df) * 100) \n",
    "print(f'{perc_na}% of rows were not categorised')\n",
    "\n",
    "# adjust df for visualisation \n",
    "def categorizeRow(row): \n",
    "    if row.amount > 2500: \n",
    "        return 'Income'\n",
    "    elif 'direct sparen' in row.description.lower(): \n",
    "        return 'Savings'\n",
    "    elif 'NL65ABNA0880878118' in row.description.upper(): \n",
    "        return 'Investments'\n",
    "    elif 'yf wong' in row.description.lower(): \n",
    "        return 'Rent'\n",
    "    elif 'belastingdienst' in row.description.lower(): \n",
    "        return 'Taxes'\n",
    "    elif 'NUS ECOLL2.0 6565168238 SGP' in row.description.upper(): \n",
    "        return 'to remove' # conference cost for Singapore, was reimbursed \n",
    "    elif row.amount > 0: \n",
    "        return 'Reimbursements' \n",
    "    else: \n",
    "        return row.category  # preserve existing\n",
    "df['category'] = df.apply(lambda row: categorizeRow(row), axis=1)\n",
    "category_totals = df.groupby('category', as_index=False)['amount'].sum()\n",
    "category_totals = category_totals[category_totals.amount < 0]\n",
    "category_totals = category_totals[category_totals.category != 'to remove']\n",
    "category_totals = category_totals[~category_totals.category.isin(['Investments', 'Savings'])]\n",
    "category_totals['amount'] = category_totals['amount'].abs()\n",
    "\n",
    "# adjust taxes - they are paid annually, so should be split accordingly \n",
    "n_months = 6 # 1-Oct-2024 till 31-Mar-2025\n",
    "def taxes(row): \n",
    "    if row.category == 'Taxes': \n",
    "        row.amount = row.amount * n_months / 12 # reduce tax amount proportionally to n months for study period \n",
    "        return row \n",
    "    else: \n",
    "        return row \n",
    "category_totals = category_totals.apply(lambda row: taxes(row), axis=1)\n",
    "\n",
    "# calculate average monthly spending \n",
    "n_months = 6 # 1-Oct-2024 till 31-Mar-2025\n",
    "total_spending = category_totals.amount.sum() \n",
    "av_spending_per_month = round(total_spending/n_months)\n",
    "print(f'total spending: {total_spending}. Average spending over {n_months} months: {av_spending_per_month}')\n",
    "\n",
    "# visualise\n",
    "category_totals = category_totals.sort_values('amount')\n",
    "category_totals['amount'] = category_totals.amount / n_months\n",
    "fig = px.bar(\n",
    "    category_totals,\n",
    "    x='amount',\n",
    "    y='category',\n",
    "    orientation='h',\n",
    "    title=f'av spending: {av_spending_per_month} per month',\n",
    "    width=700\n",
    ")\n",
    "\n",
    "fig.show()"
   ]
  },
  {
   "cell_type": "code",
   "execution_count": 132,
   "id": "9441322d",
   "metadata": {},
   "outputs": [
    {
     "data": {
      "text/plain": [
       "array(['AMAZONRETAIL*AC3LV7BA5 WWW.AMAZON.NL LUX',\n",
       "       'AMZN MKTP NL*J85GE8265 AMAZON.NL LUX',\n",
       "       'AMAZONRETAIL*2L62S08L5 WWW.AMAZON.NL LUX',\n",
       "       'AMZN MKTP NL*RI8AE3IQ4 LUXEMBOURG LUX',\n",
       "       'AMZN MKTP NL*RZ5LV9TY4 AMAZON.NL LUX',\n",
       "       'AMAZONRETAIL*LG5703U45 WWW.AMAZON.NL LUX',\n",
       "       'AMAZONRETAIL*TK8HE1F24 WWW.AMAZON.NL LUX',\n",
       "       'AMZN MKTP NL*RT1NI4TU4 AMAZON.NL LUX',\n",
       "       'AMZN MKTP NL*RT6AZ6TY4 AMAZON.NL LUX',\n",
       "       'AMZN MKTP NL*R800R9YK4 AMAZON.NL LUX',\n",
       "       'AMAZONRETAIL*R01324A04 WWW.AMAZON.NL LUX',\n",
       "       'AMZN MKTP NL*TO68O2254 AMAZON.NL LUX',\n",
       "       'AMZN MKTP NL*TR2V54EP4 AMAZON.NL LUX',\n",
       "       'AMZN MKTP CA*ZR5EA9VB1 AMAZON.CA USA',\n",
       "       'AMZN MKTP CA*Z17YE3SA0 AMAZON.CA USA',\n",
       "       'AMZN MKTP CA*Z96M74Y22 AMAZON.CA USA',\n",
       "       'BEA, Betaalpas                   CCV*DE DIAMANTEN RING,PAS033    NR:CT471206, 06.10.24/10:05      DELFT',\n",
       "       'BEA, Apple Pay                   CCV*HOME MIXTURE,PAS033         NR:CT469261, 07.10.24/17:02      DELFT',\n",
       "       'BEA, Betaalpas                   Inter IKEA Systems BV,PAS033    NR:265156, 13.10.24/11:14        DELFT',\n",
       "       'BEA, Apple Pay                   Uniqlo Europe Ltd Dutc,PAS033   NR:06461430, 26.10.24/09:13      Den Haag',\n",
       "       'BEA, Apple Pay                   vanHaren\\xa0Schoenen 0006,PAS033   NR:31560087, 26.10.24/11:40      Den Haag',\n",
       "       'BEA, Betaalpas                   Media Markt Delft,PAS033        NR:5LW949, 27.10.24/15:17        DELFT',\n",
       "       'BEA, Betaalpas                   Inter IKEA Systems BV,PAS033    NR:4MDV01, 28.10.24/11:32        DELFT',\n",
       "       'BEA, Apple Pay                   Trekpleister 1191,PAS033        NR:41WC01, 30.10.24/16:53        DELFT',\n",
       "       'SEPA iDEAL                       IBAN: NL04ADYB2017400157        BIC: ADYBNL2A                    Naam: HOKA                      Omschrijving: B6MRVVKS4QJCRTF32N 1Y8 7180187928548837 Deckers    Kenmerk: 30-10-2024 20:11 718018 7928548837',\n",
       "       'BEA, Apple Pay                   Trekpleister 1191,PAS033        NR:41WC01, 04.11.24/16:57        DELFT',\n",
       "       'BEA, Betaalpas                   ANWB Delft,PAS033               NR:32TS9Y, 07.11.24/15:52        DELFT',\n",
       "       'SEPA iDEAL                       IBAN: NL51DEUT0265262461        BIC: DEUTNL2A                    Naam: Biogroei via Stichting Mollie Payments                     Omschrijving: 287ed43b598817f1a5b0cac55d5ed01e 8152168201399080  2000144235 biogroei.nl Biogroei Kenmerk: 09-11-2024 16:32 815216',\n",
       "       'BEA, Apple Pay                   CCV*DE DIAMANTEN RING,PAS033    NR:CT471206, 05.01.25/13:14      DELFT',\n",
       "       'BEA, Betaalpas                   JoWiBV,PAS033                   NR:24615555, 18.01.25/09:43      Numansdorp',\n",
       "       'BEA, Betaalpas                   HEMA EV066 DELFT,PAS033         NR:MF2508, 18.01.25/10:11        DELFT',\n",
       "       'BEA, Apple Pay                   BCK*Inter IKEA Systems,PAS033   NR:BS172979, 21.01.25/15:30      DELFT',\n",
       "       'BEA, Betaalpas                   A-Mac Amsterdam,PAS033          NR:6K1KY5, 22.01.25/11:05        AMSTERDAM',\n",
       "       'BEA, Betaalpas                   CCV*PSU BV,PAS033               NR:CT664995, 29.01.25/12:28      AMSTERDAM',\n",
       "       '/TRTP/iDEAL/IBAN/NL56DEUT0265186420/BIC/DEUTNL2A/NAME/Koninklijke PostNL B.V./REMI/Webshop2003004641120157 8030985181024877 Webshop.2003004641.120157/EREF/30-01-2025 13:02 8030985181024877',\n",
       "       'BEA, Betaalpas                   Zettle_*VerdraaidGoed,PAS033    NR:03088501, 08.02.25/13:23      Gorinchem',\n",
       "       'BEA, Betaalpas                   AO Rotterdam Centrum,PAS033     NR:1BHB72, 08.02.25/17:01        ROTTERDAM',\n",
       "       'BEA, Betaalpas                   CCV*DE DIAMANTEN RING,PAS033    NR:CT441123, 09.02.25/11:37      DELFT',\n",
       "       'BEA, Betaalpas                   5019 AT8 Leiden,PAS033          NR:7BRN18, 10.02.25/19:23        LEIDEN',\n",
       "       'BEA, Betaalpas                   LS up to do good marke,PAS033   NR:40537168, 14.02.25/08:27      Rotterdam',\n",
       "       \"BEA, Betaalpas                   Bloemenhal CS R'dam,PAS033      NR:1TMN01, 14.02.25/19:33        ROTTERDAM\",\n",
       "       'BEA, Betaalpas                   Wereldwinkel Delft,PAS033       NR:61BA01, 15.02.25/10:04        DELFT',\n",
       "       '/TRTP/iDEAL/IBAN/DK8189000000026329/BIC/SXPYDKKK/NAME/Ochama.nl via Yabandpay B.V./REMI/52308363027X239c 7370864286381581 OCHAMA Ochama.nl/EREF/23-02-2025 14:56 7370864286381581',\n",
       "       'BEA, Betaalpas                   BCK*Gall & Gall Vinck,PAS033    NR:BS172235, 24.02.25/16:57      S-GRAVENHAGE',\n",
       "       'BEA, Betaalpas                   CCV*DE DIAMANTEN RING,PAS033    NR:CT441123, 02.03.25/09:58      DELFT',\n",
       "       'eCom, Apple Pay                  TIMELEFT                        NR:FY9W4DD0, 12.03.25/22:13      +33756905889, Land: FRA',\n",
       "       'BEA, Betaalpas                   CCV*AJ PRINS KANTOORVA,PAS033   NR:CT006009, 22.03.25/12:36      DELFT',\n",
       "       'BEA, Betaalpas                   C&M*Vishandel t Logger,PAS033   NR:CT675372, 27.03.25/16:32      Den Haag'],\n",
       "      dtype=object)"
      ]
     },
     "execution_count": 132,
     "metadata": {},
     "output_type": "execute_result"
    }
   ],
   "source": [
    "temp = df[(df.category == 'Shopping')]\n",
    "# temp.apply(lambda row: print(f'{row.amount}\\n{row.description}\\n'), axis=1)\n",
    "temp.description.unique()"
   ]
  },
  {
   "cell_type": "code",
   "execution_count": 102,
   "id": "566a63c2",
   "metadata": {},
   "outputs": [
    {
     "name": "stdout",
     "output_type": "stream",
     "text": [
      "Books & Education, -1112.49\n",
      "NUS ECOLL2.0 6565168238 SGP\n",
      "\n",
      "Other, -209.0\n",
      "TRUSTEDHOUSESITTERS.CO ENGLAND GBR\n",
      "\n",
      "Subscriptions, -160.8\n",
      "ROAMRESEARCH.COM OAKLAND USA\n",
      "\n",
      "Subscriptions, -116.83\n",
      "MURAL SOUTH SAN FRA USA\n",
      "\n",
      "Shopping, -150.0\n",
      "SEPA iDEAL                       IBAN: NL04ADYB2017400157        BIC: ADYBNL2A                    Naam: HOKA                      Omschrijving: B6MRVVKS4QJCRTF32N 1Y8 7180187928548837 Deckers    Kenmerk: 30-10-2024 20:11 718018 7928548837\n",
      "\n",
      "Transport, -558.75\n",
      "SEPA Incasso algemeen doorlopend Incassant: NL03ZZZ301243580000  Naam: NS GROEP IZ NS REIZIGERS   Machtiging: 200000623751        Omschrijving: Factuur: 451000720 339                             IBAN: NL14ABNA0576850675         Kenmerk: 240036857432           Voor: TPY TSUI\n",
      "\n",
      "Restaurants & Cafés, -156.93\n",
      "/TRTP/iDEAL/IBAN/NL31ABNA0494688556/BIC/ABNANL2A/NAME/. mai via Takeaway.com/REMI/W3T3Y8 7030376987309751 bestelling via Thuisbezorgd.nl O mai/EREF/15-01-2025 17:31 7030376987309751\n",
      "\n",
      "Health & Hygiene, -142.5\n",
      "/TRTP/iDEAL/IBAN/NL10INGB0005300114/BIC/INGBNL2A/NAME/Mw GIK Pool via ING Betaalverzoek/REMI/NL45INGB0748641718 7051716080422108 Therapy with Ferdi . Ninian NL45INGB0748641718/EREF/19-02-2025 18:58 7051716080422108\n",
      "\n"
     ]
    },
    {
     "data": {
      "text/plain": [
       "18     None\n",
       "23     None\n",
       "68     None\n",
       "70     None\n",
       "161    None\n",
       "207    None\n",
       "248    None\n",
       "354    None\n",
       "dtype: object"
      ]
     },
     "execution_count": 102,
     "metadata": {},
     "output_type": "execute_result"
    }
   ],
   "source": [
    "temp = df[\n",
    "    (~df.category.isin(['Travel', 'Rent', 'Savings', 'Insurance', 'Investments', 'Taxes', 'Utilities'])) & \n",
    "    (df.amount < -100)\n",
    "    ]\n",
    "def print_results(row): \n",
    "    print(f'{row.category}, {row.amount}')\n",
    "    print(f'{row.description}\\n')\n",
    "temp.apply(lambda row: print_results(row), axis=1)"
   ]
  }
 ],
 "metadata": {
  "kernelspec": {
   "display_name": "geo_env",
   "language": "python",
   "name": "python3"
  },
  "language_info": {
   "codemirror_mode": {
    "name": "ipython",
    "version": 3
   },
   "file_extension": ".py",
   "mimetype": "text/x-python",
   "name": "python",
   "nbconvert_exporter": "python",
   "pygments_lexer": "ipython3",
   "version": "3.10.16"
  }
 },
 "nbformat": 4,
 "nbformat_minor": 5
}
